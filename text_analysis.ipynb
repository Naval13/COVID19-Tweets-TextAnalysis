{
 "cells": [
  {
   "cell_type": "markdown",
   "metadata": {},
   "source": [
    "## 1. Introduction\n",
    "This assignment comprises the execution of analysing textual data i.e., converting the extracted data into a proper forma. The task is to preprocess a set of tweets and convert them into numerical representations (which are suitable for input into recommender-systems/ information-retrieval algorithms). The dataset contains 80+ days of COVID-19 related tweets (from late March to mid July 2020) with each sheet contains 2000 tweets. The required tasks are the following:\n",
    "\n",
    "1. Loading data from the all spreadsheets\n",
    "2. Tokenizing the extracted text\n",
    "3. Removing of context independent (stopword list from the provided file) and context dependent words with the threshold set to more than 60 days and rare tokens with a threshold of less than 5 days.\n",
    "4. Tokens with the length less than 3 should be removed from the vocab\n",
    "5. Generate the corpus vocabulary that must be sorted alphabetically.\n",
    "6. For each day (i.e., sheet in your excel file), calculate the top 100 frequent unigram and top-200 frequent bigrams \n",
    "7. Generate the sparse representation (i.e., doc-term matrix) of the excel file.\n",
    "\n",
    "\n",
    "More details for each task will be given in the following sections.\n",
    "\n",
    "Environment: Python 3.7 and Anaconda 4.3.0 (64-bit)\n",
    "\n",
    "Libraries used:\n",
    "* pandas 0.19.2 (for data frame, included in Anaconda Python 3.7) \n",
    "* re 2.2.1 (for regular expression, included in Anaconda Python 3.7) \n",
    "* langid (for identifying the language of the string, included in Anaconda Python 3.7)\n",
    "* nltk 3.2.2 (Natural Language Toolkit, included in Anaconda Python 3.7)\n",
    "* nltk.collocations (for finding bigrams, included in Anaconda Python 3.7)\n",
    "* nltk.tokenize (for tokenization, included in Anaconda Python 3.7)\n"
   ]
  },
  {
   "cell_type": "markdown",
   "metadata": {},
   "source": [
    "## 2. Loading Libraries"
   ]
  },
  {
   "cell_type": "code",
   "execution_count": 1,
   "metadata": {},
   "outputs": [],
   "source": [
    "import pandas as pd\n",
    "import langid\n",
    "from nltk.tokenize import RegexpTokenizer\n",
    "from nltk.tokenize import MWETokenizer\n",
    "\n",
    "import nltk.data\n",
    "from nltk.stem import PorterStemmer # Stemming \n",
    "from nltk.probability import * # for unigrams and FreqDistribution\n",
    "from nltk.util import ngrams #Bigrams\n",
    "\n",
    "from __future__ import division\n",
    "from itertools import chain"
   ]
  },
  {
   "cell_type": "markdown",
   "metadata": {},
   "source": [
    "## 3. Loading data\n",
    "\n",
    "The dataset can be loaded from the GITHUB repository: https://github.com/Naval13/COVID19-Tweets-TextAnalysis/blob/main/tweet_dataset.xlsx."
   ]
  },
  {
   "cell_type": "code",
   "execution_count": 3,
   "metadata": {},
   "outputs": [
    {
     "name": "stdout",
     "output_type": "stream",
     "text": [
      "Size of excel_list  26\n"
     ]
    }
   ],
   "source": [
    "#list all the the files of the folder os.listdir() method \n",
    "# file_path = \"Sample Output/part2/sample.xlsx\"\n",
    "file_path = \"tweet_dataset.xlsx\"\n",
    "\n",
    "# Read the excel document using pandas\n",
    "excel_data = pd.ExcelFile(file_path)\n",
    "# Fetching the number of sheets existing in the document\n",
    "excel_list = excel_data.sheet_names\n",
    "\n",
    "print('Size of excel_list ', len(excel_list))"
   ]
  },
  {
   "cell_type": "code",
   "execution_count": 4,
   "metadata": {},
   "outputs": [
    {
     "name": "stdout",
     "output_type": "stream",
     "text": [
      "Size of data_dict  26\n"
     ]
    }
   ],
   "source": [
    "# This method is used to parse each excel sheet\n",
    "# file_no: spreadsheet no of the excel document\n",
    "# return dataframe: dataframe containing columns as id, text and created_at \n",
    "def parse_excel(file_no):\n",
    "    # Parsing each spreadsheet \n",
    "    dataframe = excel_data.parse(file_no, header=None)\n",
    "    # Dropping all null(NA) rows and columns of each spread sheet \n",
    "    dataframe = dataframe.dropna(axis='rows', how='all')\n",
    "    dataframe = dataframe.dropna(axis='columns', how='all')\n",
    "    # Resetting the index makes index into the dataframe as a column\n",
    "    dataframe = dataframe.reset_index(drop=True)\n",
    "    # setting the header position to the first location\n",
    "    header = dataframe.iloc[0]\n",
    "    # Extracting the resst of the dataframe and removing the first row: text, id and created_at\n",
    "    dataframe = dataframe[1:]\n",
    "    # Renamingthe columns and resetting the index of the dataframe\n",
    "    dataframe = dataframe.rename(columns=header)\n",
    "    dataframe = dataframe.reset_index(drop=True)\n",
    "\n",
    "    return dataframe\n",
    "\n",
    "# Creating a data_dict and parsing each excel sheet \n",
    "data_dict = dict()\n",
    "for i in range(len(excel_list)):\n",
    "    # Storing the dataframe as a value for the corresponding sheet names in the data_dict dictionary \n",
    "    data_dict[excel_list[i]] = parse_excel(i)\n",
    "\n",
    "print(\"Size of data_dict \", len(data_dict))\n"
   ]
  },
  {
   "cell_type": "markdown",
   "metadata": {},
   "source": [
    "## 4. Extracting Data"
   ]
  },
  {
   "cell_type": "code",
   "execution_count": 5,
   "metadata": {},
   "outputs": [
    {
     "name": "stdout",
     "output_type": "stream",
     "text": [
      "Size of text_dict  26\n"
     ]
    }
   ],
   "source": [
    "# This method is used parse the textual tweets of each file\n",
    "# file_name : file_name correspond to the name of the spread sheet into consideration\n",
    "# return raw_text: raw_text contains all data from the text column in lower cases into one string \n",
    "def parse_text(file_name):\n",
    "    # fetching the text from the entire column as a list \n",
    "    dataframe_text = data_dict.get(file_name).text.values\n",
    "    # Creating an empty english_list which will only contains english textual tweets\n",
    "    english_list = []\n",
    "    \n",
    "    # iterating from the list dataframe_text column and filtering out the engilsh tweets\n",
    "    for each_tweet in dataframe_text:\n",
    "        # identifying the language of each tweet\n",
    "        check_text = langid.classify(str(each_tweet))[0]\n",
    "        # Filtering out only the english tweets\n",
    "        if check_text == 'en':\n",
    "            # adding each english tweet\n",
    "            english_list.append(each_tweet)\n",
    "            \n",
    "    # Joining each enlish tweet \n",
    "    raw_text = '\\n'.join(str(v) for v in english_list)\n",
    "    # Converting all the raw_text into lower case \n",
    "    raw_text = raw_text.lower()\n",
    "\n",
    "    return raw_text\n",
    "\n",
    "# Creating a text_dict and parsing text for each excel sheet \n",
    "text_dict = dict()\n",
    "for i in range(len(excel_list)):\n",
    "    # Storing the english text as a string corresponding to sheet names in the text_dict dictionary \n",
    "    text_dict[excel_list[i]] = parse_text(excel_list[i])\n",
    "\n",
    "print(\"Size of text_dict \", len(text_dict))"
   ]
  },
  {
   "cell_type": "code",
   "execution_count": 14,
   "metadata": {},
   "outputs": [
    {
     "data": {
      "text/plain": [
       "dict_keys(['2020-07-25', '2020-07-24', '2020-07-26', '2020-07-27', '2020-07-28', '2020-07-29', '2020-07-30', '2020-07-31', '2020-08-01', '2020-08-02', '2020-08-04', '2020-08-06', '2020-08-07', '2020-08-08', '2020-08-09', '2020-08-10', '2020-08-11', '2020-08-12', '2020-08-13', '2020-08-14', '2020-08-16', '2020-08-17', '2020-08-18', '2020-08-22', '2020-08-30', '2020-08-29'])"
      ]
     },
     "execution_count": 14,
     "metadata": {},
     "output_type": "execute_result"
    }
   ],
   "source": [
    "text_dict.keys()"
   ]
  },
  {
   "cell_type": "markdown",
   "metadata": {},
   "source": [
    "#### Observations :- \n",
    "\n",
    "1. Parsing each text column of the spreadsheet and converting all the list in the form of a string.\n",
    "2. Language of each text is identified using langid module and filtering is done. \n",
    "3. The extracted string is converted to lower case so that there is no mismatch of words.\n",
    "4. Dictionary text_dict of size 81, is created key as each file name and its value as a string of just english tweets "
   ]
  },
  {
   "cell_type": "markdown",
   "metadata": {},
   "source": [
    "## 5. Text Pre - Processing techniques"
   ]
  },
  {
   "cell_type": "markdown",
   "metadata": {},
   "source": [
    "### 5.1 Word Tokenization\n",
    "\n",
    "#### The aim is to break long sequences of characters into word tokens. The task of breaking a character sequence into pieces is known as tokenization. These tokens are referred as unigrams."
   ]
  },
  {
   "cell_type": "code",
   "execution_count": 6,
   "metadata": {},
   "outputs": [],
   "source": [
    "# Creating main_dict for tokenized text\n",
    "# tokenized text: a token is an instance of a sequence of characters in some particular document that are grouped \n",
    "# together as a useful semantic unit for processing  \n",
    "main_dict = dict()\n",
    "# Finding tokenizer with an help of provided regular expression\n",
    "tokenizer = RegexpTokenizer(r\"[a-zA-Z]+(?:[-'][a-zA-Z]+)?\")\n",
    "\n",
    "# Iterating the values of all english tweets and creating the unigrams \n",
    "for j in text_dict.keys():\n",
    "    unigram_tokens = tokenizer.tokenize(text_dict[j])\n",
    "    main_dict[j] = unigram_tokens\n",
    "    \n",
    "# print(unigram_tokens)\n",
    "    "
   ]
  },
  {
   "cell_type": "markdown",
   "metadata": {},
   "source": [
    "#### Observations: \n",
    "\n",
    "1. Using tokenizer, the text is to tokenised using given regular expression \n",
    "2. All the unigram tokens are stored in the main_dict dictionary"
   ]
  },
  {
   "cell_type": "markdown",
   "metadata": {},
   "source": [
    "### 5.2 Removing Stopwords: \n",
    "\n",
    "#### Stopwords are the words which do not contribute any meaning to a sentence. They can safely be removed without sacrificing the meaning of the sentence.  For this task, all the provided stopwords are listed in a file and these can be used to safely remove them."
   ]
  },
  {
   "cell_type": "code",
   "execution_count": 7,
   "metadata": {},
   "outputs": [
    {
     "name": "stdout",
     "output_type": "stream",
     "text": [
      "Size of stopwords list  571\n"
     ]
    }
   ],
   "source": [
    "# This method is used to parse english stopwords from a file\n",
    "# return the list of stop words \n",
    "def get_stopwords_from_file():\n",
    "    stopwords = []\n",
    "    \n",
    "    with open('./stopwords_en.txt') as f:\n",
    "        stopwords = f.read().splitlines()\n",
    "        \n",
    "    return stopwords\n",
    "\n",
    "\n",
    "# fetching a list of given stopwords\n",
    "stopwords = get_stopwords_from_file()\n",
    "print('Size of stopwords list ', len(stopwords))"
   ]
  },
  {
   "cell_type": "code",
   "execution_count": 10,
   "metadata": {},
   "outputs": [],
   "source": [
    "# This method is used to remove wordslist from the dict\n",
    "# stopwords_list : list of stopwords\n",
    "# remove_dict : dictionary from where list of stopwords are needed to be removed\n",
    "# return new_dict: updated new dictionary with the removed words\n",
    "def remove_words_from_list(stopwords_list, remove_dict):\n",
    "    # after removing stop words \n",
    "    new_dict ={}\n",
    "    # Converted to set for faster searching in set\n",
    "    stopwords_set = set(stopwords_list)\n",
    "    for y in remove_dict.keys():\n",
    "        new_dict[y] = [w for w in remove_dict[y] if w not in stopwords_set]\n",
    "    \n",
    "    # returning the updated dictionary \n",
    "    return new_dict    \n",
    "\n",
    "# initial_unigram_dict contain the dictionary with the unigrams with the removed stopwords\n",
    "initial_unigram_dict = remove_words_from_list(stopwords, main_dict)"
   ]
  },
  {
   "cell_type": "markdown",
   "metadata": {},
   "source": [
    "#### Observations:\n",
    "\n",
    "1. Creating a new dictionary initial_unigram_dict which stores all the tokens without stopwords. \n",
    "2. This type of stopwords removal is context independent removal."
   ]
  },
  {
   "cell_type": "markdown",
   "metadata": {},
   "source": [
    "### 5.3 Stemming\n",
    "\n",
    "#### The task of stemming is to reduce the same word in different lexical forms to its base form without significantly loosing the meaning\n"
   ]
  },
  {
   "cell_type": "code",
   "execution_count": 11,
   "metadata": {},
   "outputs": [],
   "source": [
    "# This method is used to stem and compress the dictionary\n",
    "# required_dict: dictionary which is required and the stemming and compressing of words done \n",
    "# return stem_dict with all compression of words in the dictionary\n",
    "def stem_compressing(required_dict):\n",
    "    stem_dict = {}\n",
    "    stem = PorterStemmer()\n",
    "\n",
    "    for z in required_dict.keys():\n",
    "        stem_dict[z] = [stem.stem(w) for w in required_dict[z]]\n",
    "    \n",
    "    return stem_dict\n",
    "\n",
    "\n",
    "stem_compress_dict = stem_compressing(initial_unigram_dict)\n",
    "# print(stem_compress_dict)"
   ]
  },
  {
   "cell_type": "markdown",
   "metadata": {},
   "source": [
    "#### Observation:   Stemming the words is done with tokens in different form are converted into its base form without significantly loosing its meaning. These are then added to the new dictionary stem_compress_dict"
   ]
  },
  {
   "cell_type": "markdown",
   "metadata": {},
   "source": [
    "### 6. Unigrams and Bigrams \n",
    "\n",
    "#### Creating unigram and bigram files by 100 most common tokens and their frequency count using FreqDist function stem_compress_dict"
   ]
  },
  {
   "cell_type": "code",
   "execution_count": 12,
   "metadata": {},
   "outputs": [
    {
     "data": {
      "text/plain": [
       "dict_keys(['2020-07-25', '2020-07-24', '2020-07-26', '2020-07-27', '2020-07-28', '2020-07-29', '2020-07-30', '2020-07-31', '2020-08-01', '2020-08-02', '2020-08-04', '2020-08-06', '2020-08-07', '2020-08-08', '2020-08-09', '2020-08-10', '2020-08-11', '2020-08-12', '2020-08-13', '2020-08-14', '2020-08-16', '2020-08-17', '2020-08-18', '2020-08-22', '2020-08-30', '2020-08-29'])"
      ]
     },
     "execution_count": 12,
     "metadata": {},
     "output_type": "execute_result"
    }
   ],
   "source": [
    "stem_compress_dict.keys()"
   ]
  },
  {
   "cell_type": "code",
   "execution_count": 9,
   "metadata": {},
   "outputs": [],
   "source": [
    "# writing 100 most common unigrams\n",
    "with open('31153054_100uni_test.txt', 'w', encoding='utf-8') as f:\n",
    "    for sheet in stem_compress_dict.keys():\n",
    "        f.write(sheet+':'+ str(FreqDist(stem_compress_dict[sheet]).most_common(100))+\"\\n\")"
   ]
  },
  {
   "cell_type": "code",
   "execution_count": 10,
   "metadata": {},
   "outputs": [],
   "source": [
    "# writing 100 most common bigrams\n",
    "with open('3153054_100bi_test.txt', 'w', encoding='utf-8') as f:\n",
    "    for sheet in main_dict.keys():\n",
    "        bigrams = ngrams(main_dict[sheet],n=2)\n",
    "        fdbigram = FreqDist(bigrams)\n",
    "        f.write(sheet+':'+ str(fdbigram.most_common(100))+\"\\n\")\n"
   ]
  },
  {
   "cell_type": "markdown",
   "metadata": {},
   "source": [
    "### 7. Vocab List: It contains the list of unique words contained in the document"
   ]
  },
  {
   "cell_type": "code",
   "execution_count": 12,
   "metadata": {},
   "outputs": [
    {
     "name": "stdout",
     "output_type": "stream",
     "text": [
      "Vocabulary size:  32023 \n",
      "Total number of tokens:  216257 \n",
      "Lexical diversity:  6.753177403741061\n"
     ]
    }
   ],
   "source": [
    "# containing all the tokens from all the sheets\n",
    "words_list = list(chain.from_iterable(main_dict.values()))\n",
    "vocab = set(words_list)\n",
    "lexical_diversity = len(words_list)/len(vocab)\n",
    "print (\"Vocabulary size: \",len(vocab),\"\\nTotal number of tokens: \", len(words_list), \\\n",
    "\"\\nLexical diversity: \", lexical_diversity)"
   ]
  },
  {
   "cell_type": "markdown",
   "metadata": {},
   "source": [
    "#### Observation:\n",
    "\n",
    "1. It is observed that the vocabulary size is 200237, which is quite large according to our knowledge. \n",
    "2. This tells us that words occur on average about 11.567 times each. \n",
    "3. There are words that occur very frequently, such as stopwords, and those that only occur once or twice, it might not help you at all and would only contribute noise. Similarly if a word appears only once in a corpus or only in one document of the corpus, it could carry little useful information for downstream analysis. \n",
    "4. Therefore, these are also removed from the vocabulary, for better the text analysis algorithms in terms of reducing running time and memory requirement, and improving their performance."
   ]
  },
  {
   "cell_type": "code",
   "execution_count": 13,
   "metadata": {},
   "outputs": [
    {
     "data": {
      "image/png": "[encoded data removed]",
      "text/plain": [
       "<Figure size 432x288 with 1 Axes>"
      ]
     },
     "metadata": {
      "needs_background": "light"
     },
     "output_type": "display_data"
    },
    {
     "data": {
      "text/plain": [
       "<matplotlib.axes._subplots.AxesSubplot at 0x7fa75b887790>"
      ]
     },
     "execution_count": 13,
     "metadata": {},
     "output_type": "execute_result"
    }
   ],
   "source": [
    "frequency_distribution = FreqDist(words_list)\n",
    "# Checking the frequency of words coming\n",
    "frequency_distribution.plot(25, cumulative=True)"
   ]
  },
  {
   "cell_type": "markdown",
   "metadata": {},
   "source": [
    "### Observation: Shows 25 words to occur 760000 which can be removed easily."
   ]
  },
  {
   "cell_type": "code",
   "execution_count": 14,
   "metadata": {},
   "outputs": [
    {
     "data": {
      "text/plain": [
       "22889"
      ]
     },
     "execution_count": 14,
     "metadata": {},
     "output_type": "execute_result"
    }
   ],
   "source": [
    "# happen only once\n",
    "len(frequency_distribution.hapaxes())"
   ]
  },
  {
   "cell_type": "markdown",
   "metadata": {},
   "source": [
    "### Observation: Shows 153535 words occur only once which can be removed."
   ]
  },
  {
   "cell_type": "code",
   "execution_count": 15,
   "metadata": {},
   "outputs": [],
   "source": [
    "# getting bigrams from the bag of words\n",
    "bigram_measures = nltk.collocations.BigramAssocMeasures()\n",
    "finder = nltk.collocations.BigramCollocationFinder.from_words(words_list)\n",
    "bigram_list=finder.nbest(bigram_measures.pmi, 200)\n",
    "# print(bigram_list)"
   ]
  },
  {
   "cell_type": "code",
   "execution_count": 16,
   "metadata": {},
   "outputs": [],
   "source": [
    "# appending bigrams to unigrams dictionary \n",
    "merged_dict = dict()\n",
    "for i in initial_unigram_dict.keys():\n",
    "    # Adding bigram_list to the list of unigram listing\n",
    "    merged_dict[i] = list(bigram_list + initial_unigram_dict[i])\n",
    "\n",
    "# print(merged_dict[i])"
   ]
  },
  {
   "cell_type": "markdown",
   "metadata": {},
   "source": [
    "### 8. MWE Tokenizer "
   ]
  },
  {
   "cell_type": "code",
   "execution_count": 17,
   "metadata": {},
   "outputs": [],
   "source": [
    "# new empty dictionay \n",
    "mwe_tokenizer_dict = dict()\n",
    "\n",
    "for i in merged_dict.keys():\n",
    "    mwe_tokenizer = MWETokenizer(merged_dict[i])\n",
    "    mwe_tokenizer_dict[i] = mwe_tokenizer.tokenize(initial_unigram_dict[i])\n",
    "\n",
    "# print(len(mwe_tokenizer_dict[i]))"
   ]
  },
  {
   "cell_type": "markdown",
   "metadata": {},
   "source": [
    "##### Observation:\n",
    "\n",
    "1. The raw_text has been split into a list of tokens that contains both unigrams and multi-word expressions. However, the list contains a lot of functional words, such as \"to\", \"in\", \"the\", \"is\" and so on. \n",
    "2. These functional words usually do not contribute much to the semantics of the text, except for increase the dimensionality of the data in text analysis. \n",
    "3. Therefore, we can choose to remove those words, which is your next task."
   ]
  },
  {
   "cell_type": "markdown",
   "metadata": {},
   "source": [
    "### 9. Tokens Removal\n",
    "\n",
    "#### Removing rare token and context dependent tokens if there occurences is with threshold less than 5 days or more than 60 days"
   ]
  },
  {
   "cell_type": "code",
   "execution_count": 18,
   "metadata": {},
   "outputs": [],
   "source": [
    "tokens = []\n",
    "for x in mwe_tokenizer_dict.keys():\n",
    "    for y in mwe_tokenizer_dict[x]:\n",
    "        if len(y) < 3:\n",
    "            tokens.append(y)\n",
    "\n",
    "token_removal_dict = remove_words_from_list(tokens, mwe_tokenizer_dict)"
   ]
  },
  {
   "cell_type": "code",
   "execution_count": 19,
   "metadata": {},
   "outputs": [],
   "source": [
    "# creating two dictionaries \n",
    "bigram_dict = {}\n",
    "unigram_dict = {}\n",
    "\n",
    "for i in token_removal_dict.keys():\n",
    "    unigram_dict[i] = [x for x in token_removal_dict[i] if \"_\" not in x]\n",
    "    bigram_dict[i] = [x for x in token_removal_dict[i] if \"_\" in x]\n",
    "    \n",
    "#print(unigram_dict)\n"
   ]
  },
  {
   "cell_type": "code",
   "execution_count": 20,
   "metadata": {},
   "outputs": [
    {
     "name": "stdout",
     "output_type": "stream",
     "text": [
      "28300\n"
     ]
    }
   ],
   "source": [
    "threshold_list = []\n",
    "\n",
    "unique_words_list = list(chain.from_iterable([set(value) for value in  unigram_dict.values()]))\n",
    "fd = FreqDist(unique_words_list)\n",
    "tuple_threshold = fd.most_common()\n",
    "\n",
    "for j in range(len(tuple_threshold)):\n",
    "    if tuple_threshold[j][1] < 5 or tuple_threshold[j][1] > 60:\n",
    "        threshold_list.append(tuple_threshold[j][0])\n",
    "    \n",
    "    \n",
    "print(len(threshold_list))"
   ]
  },
  {
   "cell_type": "code",
   "execution_count": 21,
   "metadata": {},
   "outputs": [],
   "source": [
    "# Removing threshold words for the dictionary\n",
    "threshold_final = remove_words_from_list(threshold_list, unigram_dict)\n",
    "# print(threshold_final)"
   ]
  },
  {
   "cell_type": "code",
   "execution_count": 22,
   "metadata": {},
   "outputs": [],
   "source": [
    "final_stem_dict = stem_compressing(threshold_final)\n",
    "#print(final_stem_dict)"
   ]
  },
  {
   "cell_type": "code",
   "execution_count": 23,
   "metadata": {},
   "outputs": [],
   "source": [
    "# joining bigram and unigram(after removing stop words)\n",
    "result = {}\n",
    "\n",
    "for i in final_stem_dict.keys():\n",
    "    result[i] = [x for x in final_stem_dict[i]]\n",
    "    result[i] = result[i] + bigram_dict[i]\n",
    "\n",
    "# print(result)"
   ]
  },
  {
   "cell_type": "code",
   "execution_count": 24,
   "metadata": {},
   "outputs": [
    {
     "name": "stdout",
     "output_type": "stream",
     "text": [
      "Size of sorted_vocab_set :  1836\n"
     ]
    }
   ],
   "source": [
    "# vocab list is created using chaining of each value in the result dict\n",
    "vocab_final_list = list(chain.from_iterable(result.values()))\n",
    "\n",
    "# Creating a set of unique vocab list \n",
    "vocab_set = set(vocab_final_list)\n",
    "# print(vocab_final_set)\n",
    "sorted_vocab_set = sorted(list(vocab_set))\n",
    "print('Size of sorted_vocab_set : ',len(sorted_vocab_set))"
   ]
  },
  {
   "cell_type": "code",
   "execution_count": 43,
   "metadata": {},
   "outputs": [],
   "source": [
    "# Creating a vocab list from the sorted set of vocabs i.e. these words exist \n",
    "with open('31153054_vocab.txt','w', encoding='utf-8') as f:\n",
    "    for index in range(len(c)):\n",
    "        f.write(c[index]+\":\"+str(index)+\"\\n\")\n",
    "        "
   ]
  },
  {
   "cell_type": "markdown",
   "metadata": {},
   "source": [
    "### 10. Count Vectorization"
   ]
  },
  {
   "cell_type": "code",
   "execution_count": 41,
   "metadata": {},
   "outputs": [
    {
     "name": "stdout",
     "output_type": "stream",
     "text": [
      "(81, 11228)\n"
     ]
    }
   ],
   "source": [
    "from sklearn.feature_extraction.text import CountVectorizer\n",
    "vectorizer = CountVectorizer(analyzer = \"word\") \n",
    "\n",
    "data_features = vectorizer.fit_transform([' '.join(value) for value in result.values()])\n",
    "print (data_features.shape)\n"
   ]
  },
  {
   "cell_type": "code",
   "execution_count": 44,
   "metadata": {},
   "outputs": [],
   "source": [
    "with open('31153054_countVec.txt','w',encoding='utf-8') as f:\n",
    "    dict_index = 0\n",
    "    for x in result.keys():\n",
    "        start = x\n",
    "        for word, count in zip(sorted_vocab_set, data_features.toarray()[dict_index]):\n",
    "            if count > 0:\n",
    "                start = start + \",\" + str(sorted_vocab_set.index(word)) + \":\" + str(count)\n",
    "        dict_index = dict_index + 1\n",
    "        f.write(start + \"\\n\")"
   ]
  },
  {
   "cell_type": "markdown",
   "metadata": {},
   "source": [
    "### Summary\n",
    "\n",
    "1. The raw_text has been split into a list of tokens that contains both unigrams and multi-word expressions. However, the list contains a lot of functional words, such as \"to\", \"in\", \"the\", \"is\" and so on. \n",
    "2. These functional words usually do not contribute much to the semantics of the text, except for increase the dimensionality of the data in text analysis. \n",
    "3. Also, note that our goal is to build a classification model of predicting fungal disease. Thus, we are more interested in the meaning of the diagnostic report than the syntax. Therefore, we can choose to remove those words, which is your next task."
   ]
  },
  {
   "cell_type": "markdown",
   "metadata": {},
   "source": [
    "## 9. References\n",
    "1. Blank B. (2011, January 19). *Regex non-consecutive chars* [Response to]. Retrieved from http://stackoverflow.com/a/4739636\n",
    "2. McKinney W. (2012, April 29). *Converting a Pandas GroupBy object to DataFrame* [Response to]. Retrieved from http://stackoverflow.com/a/10374456\n",
    "3. NLTK Project. (2017). *NLTK 3.0 documentation: `nltk.tokenize.regexp` module*. Retrieved from http://www.nltk.org/api/nltk.tokenize.html#nltk.tokenize.regexp.RegexpTokenizer"
   ]
  }
 ],
 "metadata": {
  "kernelspec": {
   "display_name": "Python 3",
   "language": "python",
   "name": "python3"
  },
  "language_info": {
   "codemirror_mode": {
    "name": "ipython",
    "version": 3
   },
   "file_extension": ".py",
   "mimetype": "text/x-python",
   "name": "python",
   "nbconvert_exporter": "python",
   "pygments_lexer": "ipython3",
   "version": "3.8.8"
  }
 },
 "nbformat": 4,
 "nbformat_minor": 4
}
